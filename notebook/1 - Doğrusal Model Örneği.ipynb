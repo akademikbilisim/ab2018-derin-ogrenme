{
 "cells": [
  {
   "cell_type": "markdown",
   "metadata": {},
   "source": [
    "# AB2018 Derin Öğrenme Kursu - Doğrusal Model Örneği\n",
    "\n",
    "Bu örnekte Tensorflow ile basit bir doğrusal model oluşturarak, MNIST verisetinde temel bir sınıflandırma örneği yapacağız. İlk iş olarak, gerekli paketleri içe aktarıyoruz."
   ]
  },
  {
   "cell_type": "code",
   "execution_count": 1,
   "metadata": {
    "collapsed": true
   },
   "outputs": [],
   "source": [
    "import tensorflow as tf\n",
    "from tensorflow.examples.tutorials.mnist import input_data\n",
    "import matplotlib.pyplot as plt\n",
    "import numpy as np\n",
    "import random\n",
    "\n",
    "%matplotlib inline"
   ]
  },
  {
   "cell_type": "markdown",
   "metadata": {},
   "source": [
    "Ardından MNIST verisetini internetten indirmemiz ve klasöre açmamız lazım. **one_hot=True** adlı anahtar kelime (keyword) argümanıyla, verisetindeki etiketlerin hepsini vektörleştiriyoruz. (İndirme işlemi bir kere tamamlandıktan sonra, aynı klasörden bir daha indirmeden okuyacaktır.)"
   ]
  },
  {
   "cell_type": "code",
   "execution_count": 2,
   "metadata": {},
   "outputs": [
    {
     "name": "stdout",
     "output_type": "stream",
     "text": [
      "Extracting data/MNIST/train-images-idx3-ubyte.gz\n",
      "Extracting data/MNIST/train-labels-idx1-ubyte.gz\n",
      "Extracting data/MNIST/t10k-images-idx3-ubyte.gz\n",
      "Extracting data/MNIST/t10k-labels-idx1-ubyte.gz\n"
     ]
    }
   ],
   "source": [
    "mnist = input_data.read_data_sets('data/MNIST/', one_hot=True)"
   ]
  },
  {
   "cell_type": "markdown",
   "metadata": {},
   "source": [
    "Burada resimleri göstermek için basit bir yardımcı fonksiyon oluşturdum. 784 elemanlı vektörü 28x28 boyutunda bir matrise çevirip **plt.imshow** ile gösteriyoruz. Fonksiyonda kullandığımız **cmap** adlı argümanla, renk haritalaması yapıyoruz. Bu şekilde 0'a en yakın değerler beyaz, 1'e en yakın değerler de siyah olacak."
   ]
  },
  {
   "cell_type": "code",
   "execution_count": 3,
   "metadata": {
    "collapsed": true
   },
   "outputs": [],
   "source": [
    "def show_digit(pixels):\n",
    "    img = pixels.reshape(28, 28)\n",
    "    plt.axis('off')\n",
    "    plt.imshow(img, cmap='gray_r')"
   ]
  },
  {
   "cell_type": "markdown",
   "metadata": {},
   "source": [
    "Daha önceden içe aktardığımız **random** kütüphanesindeki, **sample** fonksiyonu ile verisetinden rastgele bir resim seçip ekranda gösteriyoruz."
   ]
  },
  {
   "cell_type": "code",
   "execution_count": 4,
   "metadata": {},
   "outputs": [
    {
     "data": {
      "image/png": "[encoded data removed]",
      "text/plain": [
       "<matplotlib.figure.Figure at 0x31dc39990>"
      ]
     },
     "metadata": {},
     "output_type": "display_data"
    }
   ],
   "source": [
    "sample = random.choice(mnist.train.images)\n",
    "\n",
    "show_digit(sample)"
   ]
  },
  {
   "cell_type": "markdown",
   "metadata": {},
   "source": [
    "Verisetinde ne kadar örnek olduğuna bakalım:"
   ]
  },
  {
   "cell_type": "code",
   "execution_count": 5,
   "metadata": {},
   "outputs": [
    {
     "name": "stdout",
     "output_type": "stream",
     "text": [
      "Eğitim veriseti boyutu: 55000 örnek\n",
      "Test veriseti boyutu: 10000 örnek\n"
     ]
    }
   ],
   "source": [
    "print(u\"Eğitim veriseti boyutu: %d örnek\" % len(mnist.train.images))\n",
    "print(u\"Test veriseti boyutu: %d örnek\" % len(mnist.test.images))"
   ]
  },
  {
   "cell_type": "markdown",
   "metadata": {},
   "source": [
    "Şimdi Tensorflow hesap grafını oluşturmaya başlayabiliriz. Öncelikle veri girişini yapacağımız noktalar için, yer tutucu (placeholder) nesnelerini oluşturuyoruz. Bu değişkenlerin içinde bir veri olmayacak. Hesaplama yapmak istediğimiz zaman dışarıdan veri ile besleyeceğiz.\n",
    "\n",
    "**tf.float32** ile yer tutucunun hangi veritipinde olacağını belirledik. Sonraki parametre ise boyutları tanımlıyor. Örnek olarak **X** yer tutucusuna, matris boyutunu **[None, 784]** olarak verdiğimizde bu şu anlama gelecek: Herhangi bir satır sayısında, 784 sütunluk veri girişi olacak. Aynısı **y** için de geçerli."
   ]
  },
  {
   "cell_type": "code",
   "execution_count": 6,
   "metadata": {
    "collapsed": true
   },
   "outputs": [],
   "source": [
    "X = tf.placeholder(tf.float32, [None, 784])\n",
    "y = tf.placeholder(tf.float32, [None, 10])"
   ]
  },
  {
   "cell_type": "markdown",
   "metadata": {},
   "source": [
    "Şimdi ise optimize edilecek değişkenleri oluşturmamız lazım. Bunun için **tf.Variable** kullanıyoruz (variable=değişken). Başlangıç için **W (weight)** değişkenine rastgele değerler verdik. Bunun için 0 ile 1 arasında normal dağılıma sahip değerler oluşturduk. **stddev=0.1** ile değer kümesi 0.1'lik standart bir sapmaya sahip olacak. **b (bias)** değişkenine ise **0.1**'lik sabit başlangıç değerleri verdik."
   ]
  },
  {
   "cell_type": "code",
   "execution_count": 7,
   "metadata": {
    "collapsed": true
   },
   "outputs": [],
   "source": [
    "W = tf.Variable(tf.truncated_normal(shape=[784, 10], stddev=0.1))\n",
    "b = tf.Variable(tf.constant(shape=[10], value=0.1))"
   ]
  },
  {
   "cell_type": "markdown",
   "metadata": {},
   "source": [
    "Ardından tahmin işlemini gerçekleştirecek hesap grafını oluşturmamız lazım. Doğrusal model tanımı gereği, herhangi bir gizli katman olmayacak. Doğrudan **logit (X * W + b)** değerini hesaplayıp, **softmax** aktivasyon fonksiyonuna vereceğiz.\n",
    "\n",
    "**y_pred**'i hesaplama için kullandığımızda, artık her bir girdi için bize 10 elemanlı bir vektör döndürecek. Bu vektörün elemanları da toplamı 1'e eşit olan olasılık değerleri olacak. Yani girdiler için olasılık tahminlerini hesaplayacak."
   ]
  },
  {
   "cell_type": "code",
   "execution_count": 8,
   "metadata": {
    "collapsed": true
   },
   "outputs": [],
   "source": [
    "y_pred = tf.nn.softmax(tf.matmul(X, W) + b)"
   ]
  },
  {
   "cell_type": "markdown",
   "metadata": {},
   "source": [
    "Sonraki adımda, tahmin fonksiyonumuzun ne kadar başarısız olduğunu ölçen bir fonksiyon oluşturmamız gerekiyor. Bu fonksiyon ne kadar yüksek değer üretirse, modelimiz o kadar kötü anlamına gelecek. Bu fonksiyona genellikle kayıp (loss) veya maliyet (cost) denmekte.\n",
    "\n",
    "Kayıp fonksiyonunu oluşturmak için en basit yöntem, ortalama kareli hata (MSE) hesabı. Ama bunun yerine, çapraz entropi (cross entropy) hesabı yapacağız. Bu hesap için gerekli formül şu şekilde:"
   ]
  },
  {
   "cell_type": "markdown",
   "metadata": {},
   "source": [
    "$$L = -\\sum y' * log(y)$$"
   ]
  },
  {
   "cell_type": "markdown",
   "metadata": {},
   "source": [
    "Buradaki **y'** gerçek y değerlerini, **y** ise tahmin edilen değerleri ifade ediyor. Aynı fonksiyonu Tensorflow'da oluşturuyoruz."
   ]
  },
  {
   "cell_type": "code",
   "execution_count": 9,
   "metadata": {
    "collapsed": true
   },
   "outputs": [],
   "source": [
    "loss = tf.reduce_mean(-tf.reduce_sum(y * tf.log(y_pred),\n",
    "                                     reduction_indices=[1]))"
   ]
  },
  {
   "cell_type": "markdown",
   "metadata": {},
   "source": [
    "Oluşturduğumuz kayıp (loss) fonksiyonunu, otomatik eğim (türev) hesaplarıyla minimize etmesi için bir sistem kullanmamız gerekiyor. Bunun için Tensorflow kütüphanesinde hazır gelen **GradientDescentOptimizer** adlı optimizasyon aracını kullanacağız. Verdiğimiz **0.05** değerindeki argüman, bu sistem için öğrenme katsayısı (learning rate) olacak. Ve son olarak bu optimizasyon sistemine, kayıp fonksiyonunu minimize etmesini söylüyoruz.\n",
    "\n",
    "Eğitim süreci boyunca sürekli kayıp fonksiyonu hesaplanacak. Bu fonksiyondan gelen değerler üzerinde, daha önce tanımladığımız değişkenler (tf.Variable) ile eğim (türev) hesabı yapılacak. Bu eğim değerleri, öğrenme katsayısı ile ölçeklenip değişkenlerin üzerine eklenecek. Bu şu anlama geliyor: **optimizer** adlı grafı her çalıştırdığımızda, kayıp fonksiyonu hesaplanacak, ardından da **tf.Variable** olarak tanımladığımız ve hesapta kullandığımız tüm değişkenler otomatik olarak eğimlere göre modifiye edilecek."
   ]
  },
  {
   "cell_type": "code",
   "execution_count": 10,
   "metadata": {
    "collapsed": true
   },
   "outputs": [],
   "source": [
    "optimizer = tf.train.GradientDescentOptimizer(0.05).minimize(loss)"
   ]
  },
  {
   "cell_type": "markdown",
   "metadata": {},
   "source": [
    "Eğitim süreci boyunca, sistemin hassasiyetini hesaplamak için **accuracy** adlı grafı oluşturuyoruz."
   ]
  },
  {
   "cell_type": "code",
   "execution_count": 11,
   "metadata": {
    "collapsed": true
   },
   "outputs": [],
   "source": [
    "correct_predictions = tf.equal(tf.argmax(y, 1), tf.argmax(y_pred, 1))\n",
    "accuracy = tf.reduce_mean(tf.cast(correct_predictions, tf.float32))"
   ]
  },
  {
   "cell_type": "markdown",
   "metadata": {},
   "source": [
    "Tüm bu tanımlamalardan sonra, bir Tensorflow oturumu (session) oluşturmamız gerekiyor. Yapacağımız tüm hesaplamalar, bu oturumda gerçekleşecek. Değişkenlerin ilk değerlerinin oluşturulması için de **tf.global_variables_initializer()**'ı kullandık."
   ]
  },
  {
   "cell_type": "code",
   "execution_count": 12,
   "metadata": {
    "collapsed": true
   },
   "outputs": [],
   "source": [
    "sess = tf.Session()\n",
    "sess.run(tf.global_variables_initializer())"
   ]
  },
  {
   "cell_type": "markdown",
   "metadata": {},
   "source": [
    "Eğitime başlamadan önce, içeride kullandığım bazı değerleri açıklamakta fayda var. Eğitim (optimizasyon) işlemini, **10000** defa yapıyoruz. Her bir adım, değişkenler üzerinde oldukça küçük değişiklikler yapacak.\n",
    "\n",
    "Her bir döngüde, verisetinin eğitim kısmından **128** adet örnek alıyoruz. Bu değere genellikle **batch** deniyor (kelime anlamı \"yığın, grup, küme vs.\"). Her seferinde teker teker değil de, grup olarak örnekleri kullanmamızın sebebi çoğunlukla performans odaklı. Bilgisayarın işlem gücü ve bant genişliği kapasitesine göre bu değeri değiştirmek, eğitimin daha hızlı gerçekleşmesini sağlayacak.\n",
    "\n",
    "Eğitim işleminin gerçekleşmesi için Tensorflow oturumu üzerinde, **optimizer** grafının çalıştırılması lazım. Bu grafın da hesap yapabilmesi için, içinde tanımlı yer tutuculara (X ve y) dışarıdan gerçek değer veriyoruz. Tensorflow jargonuyla ifade etmek gerekirse: Veriyle besliyoruz."
   ]
  },
  {
   "cell_type": "code",
   "execution_count": 13,
   "metadata": {
    "scrolled": true
   },
   "outputs": [
    {
     "name": "stdout",
     "output_type": "stream",
     "text": [
      "[*] Adım: 0, batch kaybı: 2.486425, batch hassasiyeti: 10.94%\n",
      "[*] Adım: 500, batch kaybı: 0.428686, batch hassasiyeti: 91.41%\n",
      "[*] Adım: 1000, batch kaybı: 0.438087, batch hassasiyeti: 85.94%\n",
      "[*] Adım: 1500, batch kaybı: 0.306229, batch hassasiyeti: 89.06%\n",
      "[*] Adım: 2000, batch kaybı: 0.274264, batch hassasiyeti: 92.97%\n",
      "[*] Adım: 2500, batch kaybı: 0.439294, batch hassasiyeti: 87.50%\n",
      "[*] Adım: 3000, batch kaybı: 0.398824, batch hassasiyeti: 89.84%\n",
      "[*] Adım: 3500, batch kaybı: 0.353387, batch hassasiyeti: 92.19%\n",
      "[*] Adım: 4000, batch kaybı: 0.315770, batch hassasiyeti: 90.62%\n",
      "[*] Adım: 4500, batch kaybı: 0.306075, batch hassasiyeti: 92.19%\n",
      "[*] Adım: 5000, batch kaybı: 0.283485, batch hassasiyeti: 90.62%\n",
      "[*] Adım: 5500, batch kaybı: 0.338506, batch hassasiyeti: 90.62%\n",
      "[*] Adım: 6000, batch kaybı: 0.276051, batch hassasiyeti: 89.84%\n",
      "[*] Adım: 6500, batch kaybı: 0.310165, batch hassasiyeti: 89.84%\n",
      "[*] Adım: 7000, batch kaybı: 0.327720, batch hassasiyeti: 92.19%\n",
      "[*] Adım: 7500, batch kaybı: 0.178928, batch hassasiyeti: 96.09%\n",
      "[*] Adım: 8000, batch kaybı: 0.321815, batch hassasiyeti: 90.62%\n",
      "[*] Adım: 8500, batch kaybı: 0.386610, batch hassasiyeti: 91.41%\n",
      "[*] Adım: 9000, batch kaybı: 0.248945, batch hassasiyeti: 93.75%\n",
      "[*] Adım: 9500, batch kaybı: 0.305452, batch hassasiyeti: 89.06%\n"
     ]
    }
   ],
   "source": [
    "for i in xrange(10000):\n",
    "    xs, ys = mnist.train.next_batch(128)\n",
    "    \n",
    "    _, batch_loss, batch_acc = sess.run([optimizer, loss, accuracy], feed_dict={X: xs, y: ys})\n",
    "    \n",
    "    if i % 500 == 0:\n",
    "        print(\"[*] Adım: %d, batch kaybı: %.6f, batch hassasiyeti: %.2f%%\" % (i, batch_loss, batch_acc * 100))\n",
    "\n"
   ]
  },
  {
   "cell_type": "markdown",
   "metadata": {},
   "source": [
    "Eğitim tamamlanmış oldu. Şimdi verisetinin test bölümünde ne kadar hassasiyete ulaşacağına bakalım."
   ]
  },
  {
   "cell_type": "code",
   "execution_count": 14,
   "metadata": {},
   "outputs": [
    {
     "name": "stdout",
     "output_type": "stream",
     "text": [
      "Eğitim hassasiyeti: 92.00%, Test hassasiyeti: 92.06%\n"
     ]
    }
   ],
   "source": [
    "train_acc = sess.run(accuracy, feed_dict={X: mnist.train.images, y: mnist.train.labels})\n",
    "test_acc = sess.run(accuracy, feed_dict={X: mnist.test.images, y: mnist.test.labels})\n",
    "print(u\"Eğitim hassasiyeti: %.2f%%, Test hassasiyeti: %.2f%%\" % (train_acc * 100, test_acc * 100))"
   ]
  },
  {
   "cell_type": "markdown",
   "metadata": {},
   "source": [
    "Sonuçlar basit bir doğrusal model için fena değil. Modeli elle test edip, sonuçları ekrana yazdıralım. Aşağıdaki kod hücresinde, her seferinde verisetinin test bölümünden rastgele bir resim seçeceğiz ve modelden sınıflandırma tahminleri alacağız."
   ]
  },
  {
   "cell_type": "code",
   "execution_count": 15,
   "metadata": {},
   "outputs": [
    {
     "name": "stdout",
     "output_type": "stream",
     "text": [
      "Resmin 0 olma ihtimali: 0.00%\n",
      "Resmin 1 olma ihtimali: 0.00%\n",
      "Resmin 2 olma ihtimali: 0.04%\n",
      "Resmin 3 olma ihtimali: 0.01%\n",
      "Resmin 4 olma ihtimali: 0.00%\n",
      "Resmin 5 olma ihtimali: 0.00%\n",
      "Resmin 6 olma ihtimali: 0.00%\n",
      "Resmin 7 olma ihtimali: 99.15%\n",
      "Resmin 8 olma ihtimali: 0.01%\n",
      "Resmin 9 olma ihtimali: 0.79%\n"
     ]
    },
    {
     "data": {
      "image/png": "[encoded data removed]",
      "text/plain": [
       "<matplotlib.figure.Figure at 0x11b601850>"
      ]
     },
     "metadata": {},
     "output_type": "display_data"
    }
   ],
   "source": [
    "sample = random.choice(mnist.test.images)\n",
    "\n",
    "predictions = sess.run(y_pred, feed_dict={X: [sample] })[0]\n",
    "\n",
    "for i, v in enumerate(predictions):\n",
    "    print(u\"Resmin %d olma ihtimali: %.2f%%\" % (i, v * 100))\n",
    "    \n",
    "show_digit(sample)"
   ]
  },
  {
   "cell_type": "markdown",
   "metadata": {},
   "source": [
    "Modelin ürettiği 10 elemanlı vektör, resim her bir sınıfa ait olma olasılığını gösteriyor. Bu olasılık değerine genellikle **confidence** (kelime anlamı özgüven) denir. Confidence değerinin belirli bir değerin altında olması (çözülecek probleme göre) yapılan tahminin başarısız olduğunu gösterebilir.\n",
    "\n",
    "Bu durumu anlamanın en iyi yolu, modele rakam olmayan bir resim vermek. Modele böyle bir resim verirsek, ortaya çıkan olasılıklar belirli sınıflar için birbirlerine yakın olacak. Bu da bize, modelin bu tahmin konusunda başarılı olmadığını gösterecek."
   ]
  },
  {
   "cell_type": "code",
   "execution_count": 16,
   "metadata": {},
   "outputs": [
    {
     "name": "stdout",
     "output_type": "stream",
     "text": [
      "Resmin 0 olma ihtimali: 0.13%\n",
      "Resmin 1 olma ihtimali: 0.00%\n",
      "Resmin 2 olma ihtimali: 95.86%\n",
      "Resmin 3 olma ihtimali: 2.50%\n",
      "Resmin 4 olma ihtimali: 0.00%\n",
      "Resmin 5 olma ihtimali: 1.41%\n",
      "Resmin 6 olma ihtimali: 0.00%\n",
      "Resmin 7 olma ihtimali: 0.00%\n",
      "Resmin 8 olma ihtimali: 0.11%\n",
      "Resmin 9 olma ihtimali: 0.00%\n"
     ]
    },
    {
     "data": {
      "image/png": "[encoded data removed]",
      "text/plain": [
       "<matplotlib.figure.Figure at 0x31e142350>"
      ]
     },
     "metadata": {},
     "output_type": "display_data"
    }
   ],
   "source": [
    "random_img = np.random.rand(784)\n",
    "\n",
    "predictions = sess.run(y_pred, feed_dict={X: [random_img]})[0]\n",
    "\n",
    "for i, v in enumerate(predictions):\n",
    "    print(u\"Resmin %d olma ihtimali: %.2f%%\" % (i, v * 100))\n",
    "\n",
    "show_digit(random_img)"
   ]
  },
  {
   "cell_type": "markdown",
   "metadata": {},
   "source": [
    "Yukarıdaki örnekte, rastgele sayılarla 28x28 (784 piksel) boyutunda bir resim ürettim. Bu resim herhangi bir rakamı ifade etmiyor. Doğal olarak da modelin ürettiği olasılık değerleri, bazı sınıflarda birbirlerine yakın. Yani model, resmin hangi sınıfa ait olduğu konusunda yüksek olasılıklı bir tahmin yapamıyor."
   ]
  }
 ],
 "metadata": {
  "kernelspec": {
   "display_name": "Python 2",
   "language": "python",
   "name": "python2"
  },
  "language_info": {
   "codemirror_mode": {
    "name": "ipython",
    "version": 2
   },
   "file_extension": ".py",
   "mimetype": "text/x-python",
   "name": "python",
   "nbconvert_exporter": "python",
   "pygments_lexer": "ipython2",
   "version": "2.7.14"
  }
 },
 "nbformat": 4,
 "nbformat_minor": 2
}
